{
 "cells": [
  {
   "cell_type": "code",
   "execution_count": 21,
   "metadata": {},
   "outputs": [
    {
     "name": "stdout",
     "output_type": "stream",
     "text": [
      "[['Sunny' 'Hot' 'High' 'Weak' 'no']\n",
      " ['Sunny' 'Hot' 'High' 'Strong' 'no']\n",
      " ['Overcast' 'Hot' 'High' 'Weak' 'yes']\n",
      " ['Rain' 'Mild' 'High' 'Weak' 'yes']\n",
      " ['Rain' 'Cool' 'Normal' 'Weak' 'yes']\n",
      " ['Rain' 'Cool' 'Normal' 'Strong' 'no']\n",
      " ['Overcast' 'Cool' 'Normal' 'Strong' 'yes']\n",
      " ['Overcast' 'Mild' 'High' 'Weak' 'no']\n",
      " ['Sunny' 'Cool' 'Normal' 'Weak' 'yes']\n",
      " ['Rain' 'Mild' 'Normal' 'Weak' 'yes']]\n"
     ]
    }
   ],
   "source": [
    "import numpy as np\n",
    "\n",
    "def create_train_data():\n",
    "    data = [\n",
    "        ['Sunny', 'Hot', 'High', 'Weak', 'no'],\n",
    "        ['Sunny', 'Hot', 'High', 'Strong', 'no'],\n",
    "        ['Overcast', 'Hot', 'High', 'Weak', 'yes'],\n",
    "        ['Rain', 'Mild', 'High', 'Weak', 'yes'],\n",
    "        ['Rain', 'Cool', 'Normal', 'Weak', 'yes'],\n",
    "        ['Rain', 'Cool', 'Normal', 'Strong', 'no'],\n",
    "        ['Overcast', 'Cool', 'Normal', 'Strong', 'yes'],\n",
    "        ['Overcast', 'Mild', 'High', 'Weak', 'no'],\n",
    "        ['Sunny', 'Cool', 'Normal', 'Weak', 'yes'],\n",
    "        ['Rain', 'Mild', 'Normal', 'Weak', 'yes']\n",
    "    ]\n",
    "    return np.array(data)\n",
    "\n",
    "train_data = create_train_data()\n",
    "print(train_data)\n"
   ]
  },
  {
   "cell_type": "code",
   "execution_count": 22,
   "metadata": {},
   "outputs": [
    {
     "name": "stdout",
     "output_type": "stream",
     "text": [
      "P(Play Tennis = No) 0.4\n",
      "P(Play Tennis = Yes) 0.6\n"
     ]
    }
   ],
   "source": [
    "def compute_prior_probability(train_data):\n",
    "    y = train_data[:, -1]\n",
    "    y_unique, counts = np.unique(y, return_counts=True)\n",
    "    total_count = len(y)\n",
    "    prior_probability = counts / total_count\n",
    "    return prior_probability\n",
    "\n",
    "prior_probability = compute_prior_probability(train_data)\n",
    "print(\"P(Play Tennis = No)\", prior_probability[0])\n",
    "print(\"P(Play Tennis = Yes)\", prior_probability[1])\n"
   ]
  },
  {
   "cell_type": "code",
   "execution_count": 24,
   "metadata": {},
   "outputs": [
    {
     "name": "stdout",
     "output_type": "stream",
     "text": [
      "x1 = ['Overcast' 'Rain' 'Sunny']\n",
      "x2 = ['Cool' 'Hot' 'Mild']\n",
      "x3 = ['High' 'Normal']\n",
      "x4 = ['Strong' 'Weak']\n"
     ]
    }
   ],
   "source": [
    "def compute_conditional_probability(train_data):\n",
    "    y_unique = np.unique(train_data[:, -1])\n",
    "    conditional_probability = []\n",
    "    list_x_name = []\n",
    "    \n",
    "    for i in range(train_data.shape[1] - 1):\n",
    "        x_unique = np.unique(train_data[:, i])\n",
    "        list_x_name.append(x_unique)\n",
    "        \n",
    "        probs = []\n",
    "        for y in y_unique:\n",
    "            subset = train_data[train_data[:, -1] == y]\n",
    "            counts = np.array([np.sum(subset[:, i] == x) for x in x_unique])\n",
    "            probs.append(counts / len(subset))\n",
    "        \n",
    "        conditional_probability.append(np.array(probs))\n",
    "    \n",
    "    return conditional_probability, list_x_name\n",
    "\n",
    "train_data = create_train_data()\n",
    "_, list_x_name = compute_conditional_probability(train_data)\n",
    "print(\"x1 =\", list_x_name[0])\n",
    "print(\"x2 =\", list_x_name[1])\n",
    "print(\"x3 =\", list_x_name[2])\n",
    "print(\"x4 =\", list_x_name[3])\n"
   ]
  },
  {
   "cell_type": "code",
   "execution_count": 25,
   "metadata": {},
   "outputs": [],
   "source": [
    "def get_index_from_value(feature_name, list_features):\n",
    "    return np.where(list_features == feature_name)[0][0]\n"
   ]
  },
  {
   "cell_type": "code",
   "execution_count": 26,
   "metadata": {},
   "outputs": [],
   "source": [
    "def train_naive_bayes(train_data):\n",
    "    y_unique = np.unique(train_data[:, -1])\n",
    "    prior_probability = compute_prior_probability(train_data)\n",
    "    conditional_probability, list_x_name = compute_conditional_probability(train_data)\n",
    "    return prior_probability, conditional_probability, list_x_name\n"
   ]
  },
  {
   "cell_type": "code",
   "execution_count": 27,
   "metadata": {},
   "outputs": [
    {
     "name": "stdout",
     "output_type": "stream",
     "text": [
      "Ad should not go!\n"
     ]
    }
   ],
   "source": [
    "def prediction_play_tennis(X, list_x_name, prior_probability, conditional_probability):\n",
    "    x_indices = [get_index_from_value(x, list_x_name[i]) for i, x in enumerate(X)]\n",
    "    \n",
    "    p0 = prior_probability[0]\n",
    "    p1 = prior_probability[1]\n",
    "    \n",
    "    for i in range(len(X)):\n",
    "        p0 *= conditional_probability[i][0][x_indices[i]]\n",
    "        p1 *= conditional_probability[i][1][x_indices[i]]\n",
    "    \n",
    "    if p0 > p1:\n",
    "        y_pred = 0\n",
    "    else:\n",
    "        y_pred = 1\n",
    "    \n",
    "    return y_pred\n",
    "\n",
    "X = ['Sunny', 'Cool', 'High', 'Strong']\n",
    "data = create_train_data()\n",
    "prior_probability, conditional_probability, list_x_name = train_naive_bayes(data)\n",
    "pred = prediction_play_tennis(X, list_x_name, prior_probability, conditional_probability)\n",
    "\n",
    "if pred:\n",
    "    print(\"Ad should go!\")\n",
    "else:\n",
    "    print(\"Ad should not go!\")\n"
   ]
  },
  {
   "cell_type": "code",
   "execution_count": null,
   "metadata": {},
   "outputs": [],
   "source": []
  }
 ],
 "metadata": {
  "kernelspec": {
   "display_name": "Python 3",
   "language": "python",
   "name": "python3"
  },
  "language_info": {
   "codemirror_mode": {
    "name": "ipython",
    "version": 3
   },
   "file_extension": ".py",
   "mimetype": "text/x-python",
   "name": "python",
   "nbconvert_exporter": "python",
   "pygments_lexer": "ipython3",
   "version": "3.11.8"
  }
 },
 "nbformat": 4,
 "nbformat_minor": 2
}
