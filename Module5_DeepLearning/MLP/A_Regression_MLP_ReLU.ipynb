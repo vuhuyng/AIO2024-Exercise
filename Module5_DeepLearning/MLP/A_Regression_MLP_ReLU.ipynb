{
 "cells": [
  {
   "cell_type": "markdown",
   "metadata": {},
   "source": [
    "### Import Libraries"
   ]
  },
  {
   "cell_type": "code",
   "execution_count": 3,
   "metadata": {},
   "outputs": [],
   "source": [
    "import numpy as np\n",
    "import pandas as pd\n",
    "import matplotlib.pyplot as plt\n",
    "import torch\n",
    "import torch.nn as nn\n",
    "import torch.nn.functional as F\n",
    "from torch.utils.data import Dataset, DataLoader\n",
    "\n",
    "from sklearn.model_selection import train_test_split\n",
    "from sklearn.preprocessing import StandardScaler"
   ]
  },
  {
   "cell_type": "code",
   "execution_count": 4,
   "metadata": {},
   "outputs": [],
   "source": [
    "random_seed = 59\n",
    "np.random.seed(random_seed)\n",
    "torch.manual_seed(random_seed)\n",
    "if torch.cuda.is_available():\n",
    "    torch.cuda.manual_seed(random_seed)"
   ]
  },
  {
   "cell_type": "code",
   "execution_count": 5,
   "metadata": {},
   "outputs": [
    {
     "data": {
      "text/plain": [
       "device(type='cpu')"
      ]
     },
     "execution_count": 5,
     "metadata": {},
     "output_type": "execute_result"
    }
   ],
   "source": [
    "device = torch.device('cuda' if torch.cuda.is_available() else 'cpu')\n",
    "device"
   ]
  },
  {
   "cell_type": "markdown",
   "metadata": {},
   "source": [
    "### Read Dataset"
   ]
  },
  {
   "cell_type": "code",
   "execution_count": null,
   "metadata": {},
   "outputs": [
    {
     "data": {
      "text/html": [
       "<div>\n",
       "<style scoped>\n",
       "    .dataframe tbody tr th:only-of-type {\n",
       "        vertical-align: middle;\n",
       "    }\n",
       "\n",
       "    .dataframe tbody tr th {\n",
       "        vertical-align: top;\n",
       "    }\n",
       "\n",
       "    .dataframe thead th {\n",
       "        text-align: right;\n",
       "    }\n",
       "</style>\n",
       "<table border=\"1\" class=\"dataframe\">\n",
       "  <thead>\n",
       "    <tr style=\"text-align: right;\">\n",
       "      <th></th>\n",
       "      <th>MPG</th>\n",
       "      <th>Cylinders</th>\n",
       "      <th>Displacement</th>\n",
       "      <th>Horsepower</th>\n",
       "      <th>Weight</th>\n",
       "      <th>Acceleration</th>\n",
       "      <th>Model Year</th>\n",
       "      <th>Europe</th>\n",
       "      <th>Japan</th>\n",
       "      <th>USA</th>\n",
       "    </tr>\n",
       "  </thead>\n",
       "  <tbody>\n",
       "    <tr>\n",
       "      <th>0</th>\n",
       "      <td>18.0</td>\n",
       "      <td>8</td>\n",
       "      <td>307.0</td>\n",
       "      <td>130.0</td>\n",
       "      <td>3504.0</td>\n",
       "      <td>12.0</td>\n",
       "      <td>70</td>\n",
       "      <td>0</td>\n",
       "      <td>0</td>\n",
       "      <td>1</td>\n",
       "    </tr>\n",
       "    <tr>\n",
       "      <th>1</th>\n",
       "      <td>15.0</td>\n",
       "      <td>8</td>\n",
       "      <td>350.0</td>\n",
       "      <td>165.0</td>\n",
       "      <td>3693.0</td>\n",
       "      <td>11.5</td>\n",
       "      <td>70</td>\n",
       "      <td>0</td>\n",
       "      <td>0</td>\n",
       "      <td>1</td>\n",
       "    </tr>\n",
       "    <tr>\n",
       "      <th>2</th>\n",
       "      <td>18.0</td>\n",
       "      <td>8</td>\n",
       "      <td>318.0</td>\n",
       "      <td>150.0</td>\n",
       "      <td>3436.0</td>\n",
       "      <td>11.0</td>\n",
       "      <td>70</td>\n",
       "      <td>0</td>\n",
       "      <td>0</td>\n",
       "      <td>1</td>\n",
       "    </tr>\n",
       "    <tr>\n",
       "      <th>3</th>\n",
       "      <td>16.0</td>\n",
       "      <td>8</td>\n",
       "      <td>304.0</td>\n",
       "      <td>150.0</td>\n",
       "      <td>3433.0</td>\n",
       "      <td>12.0</td>\n",
       "      <td>70</td>\n",
       "      <td>0</td>\n",
       "      <td>0</td>\n",
       "      <td>1</td>\n",
       "    </tr>\n",
       "    <tr>\n",
       "      <th>4</th>\n",
       "      <td>17.0</td>\n",
       "      <td>8</td>\n",
       "      <td>302.0</td>\n",
       "      <td>140.0</td>\n",
       "      <td>3449.0</td>\n",
       "      <td>10.5</td>\n",
       "      <td>70</td>\n",
       "      <td>0</td>\n",
       "      <td>0</td>\n",
       "      <td>1</td>\n",
       "    </tr>\n",
       "    <tr>\n",
       "      <th>...</th>\n",
       "      <td>...</td>\n",
       "      <td>...</td>\n",
       "      <td>...</td>\n",
       "      <td>...</td>\n",
       "      <td>...</td>\n",
       "      <td>...</td>\n",
       "      <td>...</td>\n",
       "      <td>...</td>\n",
       "      <td>...</td>\n",
       "      <td>...</td>\n",
       "    </tr>\n",
       "    <tr>\n",
       "      <th>387</th>\n",
       "      <td>27.0</td>\n",
       "      <td>4</td>\n",
       "      <td>140.0</td>\n",
       "      <td>86.0</td>\n",
       "      <td>2790.0</td>\n",
       "      <td>15.6</td>\n",
       "      <td>82</td>\n",
       "      <td>0</td>\n",
       "      <td>0</td>\n",
       "      <td>1</td>\n",
       "    </tr>\n",
       "    <tr>\n",
       "      <th>388</th>\n",
       "      <td>44.0</td>\n",
       "      <td>4</td>\n",
       "      <td>97.0</td>\n",
       "      <td>52.0</td>\n",
       "      <td>2130.0</td>\n",
       "      <td>24.6</td>\n",
       "      <td>82</td>\n",
       "      <td>1</td>\n",
       "      <td>0</td>\n",
       "      <td>0</td>\n",
       "    </tr>\n",
       "    <tr>\n",
       "      <th>389</th>\n",
       "      <td>32.0</td>\n",
       "      <td>4</td>\n",
       "      <td>135.0</td>\n",
       "      <td>84.0</td>\n",
       "      <td>2295.0</td>\n",
       "      <td>11.6</td>\n",
       "      <td>82</td>\n",
       "      <td>0</td>\n",
       "      <td>0</td>\n",
       "      <td>1</td>\n",
       "    </tr>\n",
       "    <tr>\n",
       "      <th>390</th>\n",
       "      <td>28.0</td>\n",
       "      <td>4</td>\n",
       "      <td>120.0</td>\n",
       "      <td>79.0</td>\n",
       "      <td>2625.0</td>\n",
       "      <td>18.6</td>\n",
       "      <td>82</td>\n",
       "      <td>0</td>\n",
       "      <td>0</td>\n",
       "      <td>1</td>\n",
       "    </tr>\n",
       "    <tr>\n",
       "      <th>391</th>\n",
       "      <td>31.0</td>\n",
       "      <td>4</td>\n",
       "      <td>119.0</td>\n",
       "      <td>82.0</td>\n",
       "      <td>2720.0</td>\n",
       "      <td>19.4</td>\n",
       "      <td>82</td>\n",
       "      <td>0</td>\n",
       "      <td>0</td>\n",
       "      <td>1</td>\n",
       "    </tr>\n",
       "  </tbody>\n",
       "</table>\n",
       "<p>392 rows × 10 columns</p>\n",
       "</div>"
      ],
      "text/plain": [
       "      MPG  Cylinders  Displacement  Horsepower  Weight  Acceleration  \\\n",
       "0    18.0          8         307.0       130.0  3504.0          12.0   \n",
       "1    15.0          8         350.0       165.0  3693.0          11.5   \n",
       "2    18.0          8         318.0       150.0  3436.0          11.0   \n",
       "3    16.0          8         304.0       150.0  3433.0          12.0   \n",
       "4    17.0          8         302.0       140.0  3449.0          10.5   \n",
       "..    ...        ...           ...         ...     ...           ...   \n",
       "387  27.0          4         140.0        86.0  2790.0          15.6   \n",
       "388  44.0          4          97.0        52.0  2130.0          24.6   \n",
       "389  32.0          4         135.0        84.0  2295.0          11.6   \n",
       "390  28.0          4         120.0        79.0  2625.0          18.6   \n",
       "391  31.0          4         119.0        82.0  2720.0          19.4   \n",
       "\n",
       "     Model Year  Europe  Japan  USA  \n",
       "0            70       0      0    1  \n",
       "1            70       0      0    1  \n",
       "2            70       0      0    1  \n",
       "3            70       0      0    1  \n",
       "4            70       0      0    1  \n",
       "..          ...     ...    ...  ...  \n",
       "387          82       0      0    1  \n",
       "388          82       1      0    0  \n",
       "389          82       0      0    1  \n",
       "390          82       0      0    1  \n",
       "391          82       0      0    1  \n",
       "\n",
       "[392 rows x 10 columns]"
      ]
     },
     "execution_count": 7,
     "metadata": {},
     "output_type": "execute_result"
    }
   ],
   "source": [
    "dataset_path = 'Data/Auto_MPG_data.csv'\n",
    "dataset = pd.read_csv(dataset_path)\n",
    "dataset"
   ]
  },
  {
   "cell_type": "markdown",
   "metadata": {},
   "source": [
    "#### Preprocess"
   ]
  },
  {
   "cell_type": "code",
   "execution_count": 8,
   "metadata": {},
   "outputs": [],
   "source": [
    "X = dataset.drop(columns='MPG').values\n",
    "y = dataset['MPG'].values"
   ]
  },
  {
   "cell_type": "code",
   "execution_count": 11,
   "metadata": {},
   "outputs": [
    {
     "name": "stdout",
     "output_type": "stream",
     "text": [
      "(273, 9)\n",
      "(79, 9)\n",
      "(40, 9)\n"
     ]
    }
   ],
   "source": [
    "val_size = 0.2\n",
    "test_size = 0.125\n",
    "is_shuffle = True\n",
    "\n",
    "X_train, X_val, y_train, y_val = train_test_split(\n",
    "    X, y,\n",
    "    test_size=val_size,\n",
    "    random_state=random_seed,\n",
    "    shuffle=is_shuffle\n",
    ")\n",
    "\n",
    "X_train, X_test, y_train, y_test = train_test_split(\n",
    "    X_train, y_train,\n",
    "    test_size=test_size,\n",
    "    random_state=random_seed,\n",
    "    shuffle=is_shuffle\n",
    ")\n",
    "\n",
    "print(X_train.shape)\n",
    "print(X_val.shape)\n",
    "print(X_test.shape)"
   ]
  },
  {
   "cell_type": "code",
   "execution_count": 12,
   "metadata": {},
   "outputs": [],
   "source": [
    "normalizer = StandardScaler()\n",
    "X_train = normalizer.fit_transform(X_train)\n",
    "X_val = normalizer.transform(X_val)\n",
    "X_test = normalizer.transform(X_test)\n",
    "\n",
    "X_train = torch.tensor(X_train, dtype=torch.float32)\n",
    "y_train = torch.tensor(y_train, dtype=torch.float32)\n",
    "X_val = torch.tensor(X_val, dtype=torch.float32)\n",
    "y_val = torch.tensor(y_val, dtype=torch.float32)\n",
    "X_test = torch.tensor(X_test, dtype=torch.float32)\n",
    "y_test = torch.tensor(y_test, dtype=torch.float32)"
   ]
  },
  {
   "cell_type": "markdown",
   "metadata": {},
   "source": [
    "### Create PyTorch DataLoader"
   ]
  },
  {
   "cell_type": "code",
   "execution_count": 13,
   "metadata": {},
   "outputs": [],
   "source": [
    "class CustomDataset(Dataset):\n",
    "    def __init__(self, X, y):\n",
    "        self.X = X\n",
    "        self.y = y\n",
    "\n",
    "    def __len__(self):\n",
    "        return len(self.X)\n",
    "\n",
    "    def __getitem__(self, idx):\n",
    "        return self.X[idx], self.y[idx]"
   ]
  },
  {
   "cell_type": "code",
   "execution_count": 64,
   "metadata": {},
   "outputs": [],
   "source": [
    "batch_size = 32\n",
    "train_dataset = CustomDataset(X_train, y_train)\n",
    "train_loader = DataLoader(train_dataset, batch_size=batch_size, shuffle=True)\n",
    "\n",
    "val_dataset = CustomDataset(X_val, y_val)\n",
    "val_loader = DataLoader(val_dataset, batch_size=batch_size, shuffle=False)"
   ]
  },
  {
   "cell_type": "markdown",
   "metadata": {},
   "source": [
    "### Build MLP Network"
   ]
  },
  {
   "cell_type": "code",
   "execution_count": 65,
   "metadata": {},
   "outputs": [],
   "source": [
    "class MLP(nn.Module):\n",
    "    def __init__(self, input_dim, hidden_dim, output_dim):\n",
    "        super().__init__()\n",
    "        self.linear1 = nn.Linear(input_dim, hidden_dim)\n",
    "        self.linear2 = nn.Linear(hidden_dim, hidden_dim)\n",
    "        self.output = nn.Linear(hidden_dim, output_dim)\n",
    "\n",
    "    def forward(self, x):\n",
    "        x = F.relu(self.linear1(x))\n",
    "        x = F.relu(self.linear2(x))\n",
    "        x = self.output(x)\n",
    "        return x.squeeze(1)"
   ]
  },
  {
   "cell_type": "code",
   "execution_count": 66,
   "metadata": {},
   "outputs": [],
   "source": [
    "input_dim = X_train.shape[1]\n",
    "output_dim = 1\n",
    "hidden_dim = 64\n",
    "\n",
    "model = MLP(input_dim=input_dim,\n",
    "            hidden_dim=hidden_dim,\n",
    "            output_dim=output_dim).to(device)"
   ]
  },
  {
   "cell_type": "code",
   "execution_count": 67,
   "metadata": {},
   "outputs": [],
   "source": [
    "lr = 1e-2\n",
    "criterion = nn.MSELoss()\n",
    "optimizer = torch.optim.SGD(model.parameters(), lr=lr)"
   ]
  },
  {
   "cell_type": "code",
   "execution_count": 68,
   "metadata": {},
   "outputs": [],
   "source": [
    "def r_squared(y, y_pred):\n",
    "    y = torch.Tensor(y).to(device)\n",
    "    y_pred = torch.Tensor(y_pred).to(device)\n",
    "    y_mean = torch.mean(y)\n",
    "    ss_tot = torch.sum((y - y_mean) ** 2)\n",
    "    ss_res = torch.sum((y - y_pred) ** 2)\n",
    "    r2 = 1 - ss_res / ss_tot\n",
    "    return r2"
   ]
  },
  {
   "cell_type": "markdown",
   "metadata": {},
   "source": [
    "### Train"
   ]
  },
  {
   "cell_type": "code",
   "execution_count": 69,
   "metadata": {},
   "outputs": [
    {
     "name": "stdout",
     "output_type": "stream",
     "text": [
      "Epoch 1/100:\ttrain_loss: 388.472\tval_loss: 164.167\n",
      "Epoch 2/100:\ttrain_loss: 194.265\tval_loss: 163.130\n",
      "Epoch 3/100:\ttrain_loss: 57.540\tval_loss: 19.982\n",
      "Epoch 4/100:\ttrain_loss: 71.312\tval_loss: 10.959\n",
      "Epoch 5/100:\ttrain_loss: 17.026\tval_loss: 8.720\n",
      "Epoch 6/100:\ttrain_loss: 12.285\tval_loss: 9.896\n",
      "Epoch 7/100:\ttrain_loss: 12.783\tval_loss: 7.798\n",
      "Epoch 8/100:\ttrain_loss: 12.507\tval_loss: 13.393\n",
      "Epoch 9/100:\ttrain_loss: 17.332\tval_loss: 8.162\n",
      "Epoch 10/100:\ttrain_loss: 9.003\tval_loss: 33.777\n",
      "Epoch 11/100:\ttrain_loss: 17.064\tval_loss: 9.202\n",
      "Epoch 12/100:\ttrain_loss: 15.109\tval_loss: 8.712\n",
      "Epoch 13/100:\ttrain_loss: 16.260\tval_loss: 41.367\n",
      "Epoch 14/100:\ttrain_loss: 17.994\tval_loss: 5.206\n",
      "Epoch 15/100:\ttrain_loss: 13.145\tval_loss: 14.904\n",
      "Epoch 16/100:\ttrain_loss: 9.570\tval_loss: 5.795\n",
      "Epoch 17/100:\ttrain_loss: 9.309\tval_loss: 7.863\n",
      "Epoch 18/100:\ttrain_loss: 12.569\tval_loss: 12.021\n",
      "Epoch 19/100:\ttrain_loss: 9.132\tval_loss: 8.269\n",
      "Epoch 20/100:\ttrain_loss: 11.022\tval_loss: 6.146\n",
      "Epoch 21/100:\ttrain_loss: 8.191\tval_loss: 8.686\n",
      "Epoch 22/100:\ttrain_loss: 9.567\tval_loss: 7.137\n",
      "Epoch 23/100:\ttrain_loss: 13.650\tval_loss: 4.787\n",
      "Epoch 24/100:\ttrain_loss: 9.109\tval_loss: 5.172\n",
      "Epoch 25/100:\ttrain_loss: 8.454\tval_loss: 18.227\n",
      "Epoch 26/100:\ttrain_loss: 8.845\tval_loss: 4.492\n",
      "Epoch 27/100:\ttrain_loss: 7.342\tval_loss: 4.279\n",
      "Epoch 28/100:\ttrain_loss: 6.720\tval_loss: 9.263\n",
      "Epoch 29/100:\ttrain_loss: 7.216\tval_loss: 10.811\n",
      "Epoch 30/100:\ttrain_loss: 7.578\tval_loss: 11.623\n",
      "Epoch 31/100:\ttrain_loss: 7.387\tval_loss: 6.097\n",
      "Epoch 32/100:\ttrain_loss: 7.467\tval_loss: 4.982\n",
      "Epoch 33/100:\ttrain_loss: 5.935\tval_loss: 6.574\n",
      "Epoch 34/100:\ttrain_loss: 6.210\tval_loss: 4.720\n",
      "Epoch 35/100:\ttrain_loss: 6.912\tval_loss: 4.864\n",
      "Epoch 36/100:\ttrain_loss: 6.269\tval_loss: 6.698\n",
      "Epoch 37/100:\ttrain_loss: 8.721\tval_loss: 5.048\n",
      "Epoch 38/100:\ttrain_loss: 12.084\tval_loss: 5.912\n",
      "Epoch 39/100:\ttrain_loss: 9.025\tval_loss: 5.146\n",
      "Epoch 40/100:\ttrain_loss: 6.203\tval_loss: 5.413\n",
      "Epoch 41/100:\ttrain_loss: 7.718\tval_loss: 5.542\n",
      "Epoch 42/100:\ttrain_loss: 5.960\tval_loss: 6.064\n",
      "Epoch 43/100:\ttrain_loss: 5.931\tval_loss: 7.408\n",
      "Epoch 44/100:\ttrain_loss: 6.480\tval_loss: 9.049\n",
      "Epoch 45/100:\ttrain_loss: 7.237\tval_loss: 35.121\n",
      "Epoch 46/100:\ttrain_loss: 21.184\tval_loss: 10.935\n",
      "Epoch 47/100:\ttrain_loss: 7.359\tval_loss: 6.760\n",
      "Epoch 48/100:\ttrain_loss: 6.512\tval_loss: 5.604\n",
      "Epoch 49/100:\ttrain_loss: 12.023\tval_loss: 7.158\n",
      "Epoch 50/100:\ttrain_loss: 6.038\tval_loss: 5.811\n",
      "Epoch 51/100:\ttrain_loss: 5.718\tval_loss: 4.198\n",
      "Epoch 52/100:\ttrain_loss: 5.284\tval_loss: 5.987\n",
      "Epoch 53/100:\ttrain_loss: 6.124\tval_loss: 6.551\n",
      "Epoch 54/100:\ttrain_loss: 6.072\tval_loss: 13.492\n",
      "Epoch 55/100:\ttrain_loss: 7.879\tval_loss: 6.289\n",
      "Epoch 56/100:\ttrain_loss: 5.129\tval_loss: 5.210\n",
      "Epoch 57/100:\ttrain_loss: 6.598\tval_loss: 5.091\n",
      "Epoch 58/100:\ttrain_loss: 7.739\tval_loss: 4.404\n",
      "Epoch 59/100:\ttrain_loss: 6.573\tval_loss: 4.587\n",
      "Epoch 60/100:\ttrain_loss: 5.237\tval_loss: 6.745\n",
      "Epoch 61/100:\ttrain_loss: 5.486\tval_loss: 6.356\n",
      "Epoch 62/100:\ttrain_loss: 5.556\tval_loss: 5.032\n",
      "Epoch 63/100:\ttrain_loss: 7.574\tval_loss: 16.697\n",
      "Epoch 64/100:\ttrain_loss: 8.458\tval_loss: 7.437\n",
      "Epoch 65/100:\ttrain_loss: 5.315\tval_loss: 4.518\n",
      "Epoch 66/100:\ttrain_loss: 4.532\tval_loss: 5.603\n",
      "Epoch 67/100:\ttrain_loss: 6.564\tval_loss: 7.352\n",
      "Epoch 68/100:\ttrain_loss: 7.138\tval_loss: 4.843\n",
      "Epoch 69/100:\ttrain_loss: 4.810\tval_loss: 5.352\n",
      "Epoch 70/100:\ttrain_loss: 5.063\tval_loss: 5.192\n",
      "Epoch 71/100:\ttrain_loss: 5.864\tval_loss: 4.733\n",
      "Epoch 72/100:\ttrain_loss: 7.830\tval_loss: 6.565\n",
      "Epoch 73/100:\ttrain_loss: 5.561\tval_loss: 5.567\n",
      "Epoch 74/100:\ttrain_loss: 6.647\tval_loss: 6.456\n",
      "Epoch 75/100:\ttrain_loss: 7.151\tval_loss: 4.987\n",
      "Epoch 76/100:\ttrain_loss: 6.512\tval_loss: 8.341\n",
      "Epoch 77/100:\ttrain_loss: 6.301\tval_loss: 4.382\n",
      "Epoch 78/100:\ttrain_loss: 4.987\tval_loss: 7.863\n",
      "Epoch 79/100:\ttrain_loss: 4.612\tval_loss: 4.745\n",
      "Epoch 80/100:\ttrain_loss: 6.243\tval_loss: 5.819\n",
      "Epoch 81/100:\ttrain_loss: 5.824\tval_loss: 4.564\n",
      "Epoch 82/100:\ttrain_loss: 4.454\tval_loss: 5.822\n",
      "Epoch 83/100:\ttrain_loss: 5.897\tval_loss: 4.650\n",
      "Epoch 84/100:\ttrain_loss: 5.571\tval_loss: 6.231\n",
      "Epoch 85/100:\ttrain_loss: 6.139\tval_loss: 5.912\n",
      "Epoch 86/100:\ttrain_loss: 4.519\tval_loss: 5.160\n",
      "Epoch 87/100:\ttrain_loss: 8.244\tval_loss: 5.979\n",
      "Epoch 88/100:\ttrain_loss: 8.187\tval_loss: 12.802\n",
      "Epoch 89/100:\ttrain_loss: 5.451\tval_loss: 7.075\n",
      "Epoch 90/100:\ttrain_loss: 6.454\tval_loss: 4.739\n",
      "Epoch 91/100:\ttrain_loss: 7.966\tval_loss: 6.869\n",
      "Epoch 92/100:\ttrain_loss: 5.016\tval_loss: 5.046\n",
      "Epoch 93/100:\ttrain_loss: 6.168\tval_loss: 5.897\n",
      "Epoch 94/100:\ttrain_loss: 8.959\tval_loss: 4.543\n",
      "Epoch 95/100:\ttrain_loss: 5.655\tval_loss: 4.954\n",
      "Epoch 96/100:\ttrain_loss: 6.658\tval_loss: 5.555\n",
      "Epoch 97/100:\ttrain_loss: 4.666\tval_loss: 10.212\n",
      "Epoch 98/100:\ttrain_loss: 7.245\tval_loss: 4.486\n",
      "Epoch 99/100:\ttrain_loss: 7.187\tval_loss: 5.086\n",
      "Epoch 100/100:\ttrain_loss: 4.664\tval_loss: 4.954\n"
     ]
    }
   ],
   "source": [
    "epochs = 100\n",
    "train_losses, val_losses, train_r2, val_r2 = [], [], [], []\n",
    "\n",
    "for epoch in range(epochs):\n",
    "    train_loss = 0.0\n",
    "    train_target, val_target, train_predict, val_predict = [], [], [], []\n",
    "\n",
    "    model.train()\n",
    "    for X_batch, y_batch in train_loader:\n",
    "        X_batch, y_batch = X_batch.to(device), y_batch.to(device)\n",
    "\n",
    "        optimizer.zero_grad()\n",
    "        y_pred = model(X_batch)\n",
    "        loss = criterion(y_pred, y_batch)\n",
    "        loss.backward()\n",
    "        optimizer.step()\n",
    "\n",
    "        train_loss += loss.item()\n",
    "        train_predict.extend(y_pred.tolist())\n",
    "        train_target.extend(y_batch.tolist())\n",
    "    \n",
    "    train_loss /= len(train_loader)\n",
    "    train_losses.append(train_loss)\n",
    "    train_r2.append(r_squared(train_target, train_predict).item())\n",
    "    \n",
    "    model.eval()\n",
    "    val_loss = 0.0\n",
    "    with torch.no_grad():\n",
    "        for X_batch, y_batch in val_loader:\n",
    "            X_batch, y_batch = X_batch.to(device), y_batch.to(device)\n",
    "\n",
    "            y_pred = model(X_batch)\n",
    "            loss = criterion(y_pred, y_batch)\n",
    "\n",
    "            val_loss += loss.item()\n",
    "            val_predict.extend(y_pred.tolist())\n",
    "            val_target.extend(y_batch.tolist())\n",
    "    \n",
    "    val_loss /= len(val_loader)\n",
    "    val_losses.append(val_loss)\n",
    "    val_r2.append(r_squared(val_target, val_predict).item())\n",
    "    \n",
    "    print(f'Epoch {epoch + 1}/{epochs}:\\ttrain_loss: {train_loss:.3f}\\tval_loss: {val_loss:.3f}')"
   ]
  },
  {
   "cell_type": "markdown",
   "metadata": {},
   "source": [
    "### Evaluation"
   ]
  },
  {
   "cell_type": "code",
   "execution_count": 70,
   "metadata": {},
   "outputs": [
    {
     "name": "stdout",
     "output_type": "stream",
     "text": [
      "Test R2: 0.849\n"
     ]
    }
   ],
   "source": [
    "model.eval()\n",
    "with torch.no_grad():\n",
    "    y_pred = model(X_test)\n",
    "    test_r2 = r_squared(y_test, y_pred)\n",
    "    print(f'Test R2: {test_r2:.3f}')"
   ]
  },
  {
   "cell_type": "code",
   "execution_count": 73,
   "metadata": {},
   "outputs": [
    {
     "data": {
      "image/png": "[encoded data removed]",
      "text/plain": [
       "<Figure size 1200x800 with 2 Axes>"
      ]
     },
     "metadata": {},
     "output_type": "display_data"
    }
   ],
   "source": [
    "# Plot those loss and r2 on 2x2 plot\n",
    "plt.figure(figsize=(12, 8))\n",
    "plt.subplot(1, 2, 1)\n",
    "plt.plot(train_losses, label='Train Loss')\n",
    "plt.plot(val_losses, label='Validation Loss')\n",
    "plt.xlabel('Epochs')\n",
    "plt.ylabel('Loss')\n",
    "plt.legend()\n",
    "plt.title('Loss Over Epochs')\n",
    "\n",
    "plt.subplot(1, 2, 2)\n",
    "plt.plot(train_r2, label='Train R2')\n",
    "plt.plot(val_r2, label='Validation R2')\n",
    "plt.xlabel('Epochs')\n",
    "plt.ylabel('R2')\n",
    "plt.legend()\n",
    "plt.title('R2 Over Epochs')\n",
    "plt.show()\n"
   ]
  }
 ],
 "metadata": {
  "kernelspec": {
   "display_name": "toan_env",
   "language": "python",
   "name": "python3"
  },
  "language_info": {
   "codemirror_mode": {
    "name": "ipython",
    "version": 3
   },
   "file_extension": ".py",
   "mimetype": "text/x-python",
   "name": "python",
   "nbconvert_exporter": "python",
   "pygments_lexer": "ipython3",
   "version": "3.11.10"
  }
 },
 "nbformat": 4,
 "nbformat_minor": 2
}
