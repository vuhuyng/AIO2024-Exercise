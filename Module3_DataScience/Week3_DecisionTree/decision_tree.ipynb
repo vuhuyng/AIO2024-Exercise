{
 "cells": [
  {
   "cell_type": "markdown",
   "metadata": {},
   "source": [
    "## 1. Decision Tree for Classification"
   ]
  },
  {
   "cell_type": "code",
   "execution_count": 6,
   "metadata": {},
   "outputs": [
    {
     "data": {
      "text/html": [
       "<div>\n",
       "<style scoped>\n",
       "    .dataframe tbody tr th:only-of-type {\n",
       "        vertical-align: middle;\n",
       "    }\n",
       "\n",
       "    .dataframe tbody tr th {\n",
       "        vertical-align: top;\n",
       "    }\n",
       "\n",
       "    .dataframe thead th {\n",
       "        text-align: right;\n",
       "    }\n",
       "</style>\n",
       "<table border=\"1\" class=\"dataframe\">\n",
       "  <thead>\n",
       "    <tr style=\"text-align: right;\">\n",
       "      <th></th>\n",
       "      <th>Age</th>\n",
       "      <th>Likes English</th>\n",
       "      <th>Likes AI</th>\n",
       "      <th>Raise Salary</th>\n",
       "    </tr>\n",
       "  </thead>\n",
       "  <tbody>\n",
       "    <tr>\n",
       "      <th>0</th>\n",
       "      <td>23</td>\n",
       "      <td>0</td>\n",
       "      <td>0</td>\n",
       "      <td>0</td>\n",
       "    </tr>\n",
       "    <tr>\n",
       "      <th>1</th>\n",
       "      <td>25</td>\n",
       "      <td>1</td>\n",
       "      <td>1</td>\n",
       "      <td>0</td>\n",
       "    </tr>\n",
       "    <tr>\n",
       "      <th>2</th>\n",
       "      <td>27</td>\n",
       "      <td>1</td>\n",
       "      <td>0</td>\n",
       "      <td>1</td>\n",
       "    </tr>\n",
       "    <tr>\n",
       "      <th>3</th>\n",
       "      <td>29</td>\n",
       "      <td>0</td>\n",
       "      <td>1</td>\n",
       "      <td>1</td>\n",
       "    </tr>\n",
       "    <tr>\n",
       "      <th>4</th>\n",
       "      <td>29</td>\n",
       "      <td>0</td>\n",
       "      <td>0</td>\n",
       "      <td>0</td>\n",
       "    </tr>\n",
       "  </tbody>\n",
       "</table>\n",
       "</div>"
      ],
      "text/plain": [
       "   Age  Likes English  Likes AI  Raise Salary\n",
       "0   23              0         0             0\n",
       "1   25              1         1             0\n",
       "2   27              1         0             1\n",
       "3   29              0         1             1\n",
       "4   29              0         0             0"
      ]
     },
     "execution_count": 6,
     "metadata": {},
     "output_type": "execute_result"
    }
   ],
   "source": [
    "import pandas as pd\n",
    "import numpy as np\n",
    "\n",
    "# Dữ liệu từ bảng\n",
    "data = {\n",
    "    'Age': [23, 25, 27, 29, 29],\n",
    "    'Likes English': [0, 1, 1, 0, 0],\n",
    "    'Likes AI': [0, 1, 0, 1, 0],\n",
    "    'Raise Salary': [0, 0, 1, 1, 0]\n",
    "}\n",
    "\n",
    "# Tạo DataFrame\n",
    "df = pd.DataFrame(data)\n",
    "\n",
    "# Hiển thị DataFrame\n",
    "df\n"
   ]
  },
  {
   "cell_type": "code",
   "execution_count": 2,
   "metadata": {},
   "outputs": [
    {
     "name": "stdout",
     "output_type": "stream",
     "text": [
      "Chỉ số Gini cho cột 'Raise Salary' là: 0.48\n"
     ]
    }
   ],
   "source": [
    "# Tính chỉ số Gini cho cột 'Raise Salary'\n",
    "def gini(column):\n",
    "    # Đếm tần suất xuất hiện của mỗi giá trị trong cột\n",
    "    counts = column.value_counts(normalize=True)\n",
    "    # Áp dụng công thức Gini\n",
    "    gini_value = 1 - sum(counts**2)\n",
    "    return gini_value\n",
    "\n",
    "# Tính chỉ số Gini cho cột 'Raise Salary'\n",
    "gini_salary = gini(df['Raise Salary'])\n",
    "print(f\"Chỉ số Gini cho cột 'Raise Salary' là: {gini_salary:.2f}\")"
   ]
  },
  {
   "cell_type": "code",
   "execution_count": 3,
   "metadata": {},
   "outputs": [
    {
     "name": "stdout",
     "output_type": "stream",
     "text": [
      "Chỉ số Gini cho node gốc 'Likes English' là: 0.47\n"
     ]
    }
   ],
   "source": [
    "# Tính chỉ số Gini cho thuộc tính 'Likes English' làm node gốc\n",
    "def gini_for_split(df, split_column, target_column):\n",
    "    # Nhóm dữ liệu dựa trên giá trị của cột phân tách\n",
    "    groups = df.groupby(split_column)[target_column]\n",
    "    \n",
    "    # Tính chỉ số Gini cho từng nhóm\n",
    "    weighted_gini = 0\n",
    "    total_samples = len(df)\n",
    "    \n",
    "    for group, data in groups:\n",
    "        group_size = len(data)\n",
    "        group_gini = gini(data)\n",
    "        weighted_gini += (group_size / total_samples) * group_gini\n",
    "    \n",
    "    return weighted_gini\n",
    "\n",
    "# Tính Gini cho bộ dữ liệu khi 'Likes English' là node gốc\n",
    "gini_likes_english = gini_for_split(df, 'Likes English', 'Raise Salary')\n",
    "print(f\"Chỉ số Gini cho node gốc 'Likes English' là: {gini_likes_english:.2f}\")"
   ]
  },
  {
   "cell_type": "code",
   "execution_count": 4,
   "metadata": {},
   "outputs": [
    {
     "name": "stdout",
     "output_type": "stream",
     "text": [
      "Chỉ số Gini cho node gốc 'Age' với điều kiện 'Age <= 26' là: 0.27\n"
     ]
    }
   ],
   "source": [
    "def gini_for_age_split(df, age_column, target_column, threshold):\n",
    "    # Chia tập dữ liệu thành D1 và D2\n",
    "    D1 = df[df[age_column] <= threshold][target_column]\n",
    "    D2 = df[df[age_column] > threshold][target_column]\n",
    "    \n",
    "    # Tính Gini cho D1 và D2\n",
    "    gini_D1 = gini(D1)\n",
    "    gini_D2 = gini(D2)\n",
    "    \n",
    "    # Tính Gini có trọng số dựa trên số lượng mẫu\n",
    "    total_samples = len(df)\n",
    "    weighted_gini = (len(D1) / total_samples) * gini_D1 + (len(D2) / total_samples) * gini_D2\n",
    "    \n",
    "    return weighted_gini\n",
    "\n",
    "# Tính Gini cho bộ dữ liệu khi 'Age' là node gốc và phân chia theo 'Age <= 26'\n",
    "gini_age_split = gini_for_age_split(df, 'Age', 'Raise Salary', 26)\n",
    "print(f\"Chỉ số Gini cho node gốc 'Age' với điều kiện 'Age <= 26' là: {gini_age_split:.2f}\")"
   ]
  },
  {
   "cell_type": "code",
   "execution_count": 7,
   "metadata": {},
   "outputs": [
    {
     "name": "stdout",
     "output_type": "stream",
     "text": [
      "Giá trị Entropy của cột 'Raise Salary' là: 0.97\n"
     ]
    }
   ],
   "source": [
    "\n",
    "# Hàm tính Entropy\n",
    "def entropy(column):\n",
    "    # Tính tần suất (xác suất) của từng lớp\n",
    "    counts = column.value_counts(normalize=True)\n",
    "    # Tính Entropy theo công thức\n",
    "    entropy_value = -sum(counts * np.log2(counts))\n",
    "    return entropy_value\n",
    "\n",
    "# Tính Entropy cho cột 'Raise Salary'\n",
    "entropy_value = entropy(df['Raise Salary'])\n",
    "print(f\"Giá trị Entropy của cột 'Raise Salary' là: {entropy_value:.2f}\")"
   ]
  },
  {
   "cell_type": "code",
   "execution_count": 8,
   "metadata": {},
   "outputs": [
    {
     "name": "stdout",
     "output_type": "stream",
     "text": [
      "Gain của thuộc tính \"Likes English\": 0.01997309402197489\n"
     ]
    }
   ],
   "source": [
    "entropy_original = entropy(df['Raise Salary'])\n",
    "\n",
    "# Phân chia dữ liệu theo thuộc tính 'Likes English'\n",
    "entropy_values = {}\n",
    "for value in df['Likes English'].unique():\n",
    "    subset = df[df['Likes English'] == value]\n",
    "    entropy_values[value] = entropy(subset['Raise Salary'])\n",
    "\n",
    "# Tính Gain\n",
    "weighted_entropy_sum = sum((len(df[df['Likes English'] == value]) / len(df)) * entropy\n",
    "                            for value, entropy in entropy_values.items())\n",
    "gain = entropy_original - weighted_entropy_sum\n",
    "\n",
    "print(f'Gain của thuộc tính \"Likes English\": {gain}')"
   ]
  },
  {
   "cell_type": "code",
   "execution_count": 9,
   "metadata": {},
   "outputs": [],
   "source": [
    "from sklearn import datasets\n",
    "iris_X, iris_y = datasets.load_iris(return_X_y=True)\n"
   ]
  },
  {
   "cell_type": "code",
   "execution_count": 10,
   "metadata": {},
   "outputs": [
    {
     "name": "stdout",
     "output_type": "stream",
     "text": [
      "Accuracy: 1.0\n"
     ]
    }
   ],
   "source": [
    "from sklearn import datasets\n",
    "from sklearn.model_selection import train_test_split\n",
    "from sklearn.metrics import accuracy_score\n",
    "from sklearn.tree import DecisionTreeClassifier\n",
    "\n",
    "# Load the iris dataset\n",
    "iris_X, iris_y = datasets.load_iris(return_X_y=True)\n",
    "\n",
    "# Split train : test = 8:2\n",
    "X_train, X_test, y_train, y_test = train_test_split(\n",
    "    iris_X, iris_y,\n",
    "    test_size=0.2,\n",
    "    random_state=42\n",
    ")\n",
    "\n",
    "# Define model\n",
    "dt_classifier = DecisionTreeClassifier()\n",
    "\n",
    "# Train\n",
    "dt_classifier.fit(X_train, y_train)\n",
    "\n",
    "# Predict and evaluate\n",
    "y_pred = dt_classifier.predict(X_test)\n",
    "accuracy = accuracy_score(y_test, y_pred)\n",
    "print(f'Accuracy: {accuracy}')\n"
   ]
  },
  {
   "cell_type": "markdown",
   "metadata": {},
   "source": [
    "## 2. Decision Tree for Regression"
   ]
  },
  {
   "cell_type": "code",
   "execution_count": 11,
   "metadata": {},
   "outputs": [
    {
     "data": {
      "text/html": [
       "<div>\n",
       "<style scoped>\n",
       "    .dataframe tbody tr th:only-of-type {\n",
       "        vertical-align: middle;\n",
       "    }\n",
       "\n",
       "    .dataframe tbody tr th {\n",
       "        vertical-align: top;\n",
       "    }\n",
       "\n",
       "    .dataframe thead th {\n",
       "        text-align: right;\n",
       "    }\n",
       "</style>\n",
       "<table border=\"1\" class=\"dataframe\">\n",
       "  <thead>\n",
       "    <tr style=\"text-align: right;\">\n",
       "      <th></th>\n",
       "      <th>Age</th>\n",
       "      <th>Likes English</th>\n",
       "      <th>Likes AI</th>\n",
       "      <th>Salary</th>\n",
       "    </tr>\n",
       "  </thead>\n",
       "  <tbody>\n",
       "    <tr>\n",
       "      <th>0</th>\n",
       "      <td>23</td>\n",
       "      <td>0</td>\n",
       "      <td>0</td>\n",
       "      <td>200</td>\n",
       "    </tr>\n",
       "    <tr>\n",
       "      <th>1</th>\n",
       "      <td>25</td>\n",
       "      <td>1</td>\n",
       "      <td>1</td>\n",
       "      <td>400</td>\n",
       "    </tr>\n",
       "    <tr>\n",
       "      <th>2</th>\n",
       "      <td>27</td>\n",
       "      <td>1</td>\n",
       "      <td>0</td>\n",
       "      <td>300</td>\n",
       "    </tr>\n",
       "    <tr>\n",
       "      <th>3</th>\n",
       "      <td>29</td>\n",
       "      <td>0</td>\n",
       "      <td>1</td>\n",
       "      <td>500</td>\n",
       "    </tr>\n",
       "    <tr>\n",
       "      <th>4</th>\n",
       "      <td>29</td>\n",
       "      <td>0</td>\n",
       "      <td>0</td>\n",
       "      <td>400</td>\n",
       "    </tr>\n",
       "  </tbody>\n",
       "</table>\n",
       "</div>"
      ],
      "text/plain": [
       "   Age  Likes English  Likes AI  Salary\n",
       "0   23              0         0     200\n",
       "1   25              1         1     400\n",
       "2   27              1         0     300\n",
       "3   29              0         1     500\n",
       "4   29              0         0     400"
      ]
     },
     "execution_count": 11,
     "metadata": {},
     "output_type": "execute_result"
    }
   ],
   "source": [
    "import pandas as pd\n",
    "\n",
    "# Tạo dữ liệu\n",
    "data = {\n",
    "    'Age': [23, 25, 27, 29, 29],\n",
    "    'Likes English': [0, 1, 1, 0, 0],\n",
    "    'Likes AI': [0, 1, 0, 1, 0],\n",
    "    'Salary': [200, 400, 300, 500, 400]\n",
    "}\n",
    "\n",
    "# Tạo DataFrame\n",
    "df = pd.DataFrame(data)\n",
    "\n",
    "# Hiển thị DataFrame\n",
    "df\n"
   ]
  },
  {
   "cell_type": "code",
   "execution_count": 12,
   "metadata": {},
   "outputs": [
    {
     "name": "stdout",
     "output_type": "stream",
     "text": [
      "Total SSE: 25000.0\n"
     ]
    }
   ],
   "source": [
    "# Tính trung bình Salary cho từng nhóm 'Likes AI'\n",
    "mean_salary_likes_ai_1 = df[df['Likes AI'] == 1]['Salary'].mean()\n",
    "mean_salary_likes_ai_0 = df[df['Likes AI'] == 0]['Salary'].mean()\n",
    "\n",
    "# Tính SSE cho từng nhóm\n",
    "sse_likes_ai_1 = ((df[df['Likes AI'] == 1]['Salary'] - mean_salary_likes_ai_1) ** 2).sum()\n",
    "sse_likes_ai_0 = ((df[df['Likes AI'] == 0]['Salary'] - mean_salary_likes_ai_0) ** 2).sum()\n",
    "\n",
    "# Tổng SSE\n",
    "total_sse = sse_likes_ai_1 + sse_likes_ai_0\n",
    "\n",
    "print(f\"Total SSE: {total_sse}\")"
   ]
  },
  {
   "cell_type": "code",
   "execution_count": 14,
   "metadata": {},
   "outputs": [
    {
     "name": "stdout",
     "output_type": "stream",
     "text": [
      "Total SSE: 20000.0\n"
     ]
    }
   ],
   "source": [
    "# Chia dữ liệu thành hai nhóm\n",
    "D1 = df[df['Age'] <= 24]\n",
    "D2 = df[df['Age'] > 24]\n",
    "\n",
    "# Tính trung bình Salary cho từng nhóm\n",
    "mean_salary_D1 = D1['Salary'].mean() if not D1.empty else 0\n",
    "mean_salary_D2 = D2['Salary'].mean() if not D2.empty else 0\n",
    "\n",
    "# Tính SSE cho từng nhóm\n",
    "sse_D1 = ((D1['Salary'] - mean_salary_D1) ** 2).sum()\n",
    "sse_D2 = ((D2['Salary'] - mean_salary_D2) ** 2).sum()\n",
    "\n",
    "# Tổng SSE\n",
    "total_sse = sse_D1 + sse_D2\n",
    "\n",
    "print(f\"Total SSE: {total_sse}\")"
   ]
  },
  {
   "cell_type": "code",
   "execution_count": null,
   "metadata": {},
   "outputs": [],
   "source": []
  }
 ],
 "metadata": {
  "kernelspec": {
   "display_name": "Python 3",
   "language": "python",
   "name": "python3"
  },
  "language_info": {
   "codemirror_mode": {
    "name": "ipython",
    "version": 3
   },
   "file_extension": ".py",
   "mimetype": "text/x-python",
   "name": "python",
   "nbconvert_exporter": "python",
   "pygments_lexer": "ipython3",
   "version": "3.11.8"
  }
 },
 "nbformat": 4,
 "nbformat_minor": 2
}
