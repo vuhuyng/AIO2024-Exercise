{
 "cells": [
  {
   "cell_type": "code",
   "execution_count": 9,
   "metadata": {},
   "outputs": [],
   "source": []
  },
  {
   "cell_type": "code",
   "execution_count": 29,
   "metadata": {},
   "outputs": [
    {
     "name": "stdout",
     "output_type": "stream",
     "text": [
      "Centroids:\n",
      "[[2.2        2.8        1.7       ]\n",
      " [8.5        8.16666667 8.        ]]\n",
      "\n",
      "Labels:\n",
      "[0 0 0 1 1 1 0 0]\n"
     ]
    },
    {
     "data": {
      "image/png": "[encoded data removed]",
      "text/plain": [
       "<Figure size 640x480 with 1 Axes>"
      ]
     },
     "metadata": {},
     "output_type": "display_data"
    }
   ],
   "source": [
    "import numpy as np\n",
    "import pandas as pd\n",
    "import matplotlib.pyplot as plt\n",
    "from sklearn.cluster import KMeans\n",
    "\n",
    "# Dữ liệu\n",
    "data = {\n",
    "    'Feature 1': [2.0, 3.0, 3.5, 8.0, 8.5, 9.0, 1.0, 1.5],\n",
    "    'Feature 2': [3.0, 3.5, 3.0, 8.0, 8.5, 8.0, 2.0, 2.5],\n",
    "    'Feature 3': [1.5, 2.0, 2.5, 7.5, 8.0, 8.5, 1.0, 1.5]\n",
    "}\n",
    "\n",
    "# Chuyển dữ liệu thành DataFrame\n",
    "df = pd.DataFrame(data)\n",
    "\n",
    "# Chuyển DataFrame thành numpy array\n",
    "data_array = df.to_numpy()\n",
    "\n",
    "# Chọn hai điểm đầu tiên làm centroids ban đầu\n",
    "initial_centroids = np.array([data_array[0], data_array[1]])\n",
    "\n",
    "# Khởi tạo KMeans với số cụm là 2 và chỉ định centroids ban đầu\n",
    "kmeans = KMeans(n_clusters=2, init=initial_centroids, n_init=1)\n",
    "\n",
    "# Huấn luyện mô hình KMeans\n",
    "kmeans.fit(data_array)\n",
    "\n",
    "# Lấy thông tin các centroids và nhãn của mỗi điểm dữ liệu\n",
    "centroids = kmeans.cluster_centers_\n",
    "labels = kmeans.labels_\n",
    "\n",
    "# In ra kết quả\n",
    "print(\"Centroids:\")\n",
    "print(centroids)\n",
    "print(\"\\nLabels:\")\n",
    "print(labels)\n",
    "\n",
    "# Vẽ biểu đồ\n",
    "plt.scatter(data_array[:, 0], data_array[:, 1], c=labels, cmap='viridis', marker='o')\n",
    "plt.scatter(centroids[:, 0], centroids[:, 1], c='red', marker='X', s=200, label='Centroids')\n",
    "plt.xlabel('Feature 1')\n",
    "plt.ylabel('Feature 2')\n",
    "plt.title('K-means Clustering with 2 Initial Centroids')\n",
    "plt.legend()\n",
    "plt.show()\n"
   ]
  },
  {
   "cell_type": "code",
   "execution_count": 12,
   "metadata": {},
   "outputs": [
    {
     "data": {
      "text/plain": [
       "9.848857801796104"
      ]
     },
     "execution_count": 12,
     "metadata": {},
     "output_type": "execute_result"
    }
   ],
   "source": [
    "point_data = np.array([2.0, 3.0, 1.5])\n",
    "centroid = np.array([8.0, 8.0, 7.5])\n",
    "\n",
    "# Tính khoảng cách Euclid\n",
    "distance = np.linalg.norm(point_data - centroid)\n",
    "distance"
   ]
  },
  {
   "cell_type": "code",
   "execution_count": 13,
   "metadata": {},
   "outputs": [
    {
     "name": "stdout",
     "output_type": "stream",
     "text": [
      "Khoảng cách Euclid đến centroid 1: 1.224744871391589\n",
      "Khoảng cách Euclid đến centroid 2: 2.692582403567252\n",
      "Điểm dữ liệu thuộc cụm 1\n"
     ]
    }
   ],
   "source": [
    "import numpy as np\n",
    "import pandas as pd\n",
    "\n",
    "# Dữ liệu\n",
    "data = {\n",
    "    'Feature 1': [2.0, 3.0, 3.5, 8.0, 8.5, 9.0, 1.0, 1.5],\n",
    "    'Feature 2': [3.0, 3.5, 3.0, 8.0, 8.5, 8.0, 2.0, 2.5],\n",
    "    'Feature 3': [1.5, 2.0, 2.5, 7.5, 8.0, 8.5, 1.0, 1.5]\n",
    "}\n",
    "\n",
    "# Tạo DataFrame\n",
    "df = pd.DataFrame(data)\n",
    "\n",
    "# Tọa độ của các centroid\n",
    "centroid1 = np.array([2.0, 3.0, 1.5])\n",
    "centroid2 = np.array([1.0, 2.0, 1.0])\n",
    "\n",
    "# Tọa độ của điểm dữ liệu cần phân cụm\n",
    "data_point = np.array([3.0, 3.5, 2.0])\n",
    "\n",
    "# Tính khoảng cách Euclid từ điểm dữ liệu đến các centroid\n",
    "distance_to_centroid1 = np.linalg.norm(data_point - centroid1)\n",
    "distance_to_centroid2 = np.linalg.norm(data_point - centroid2)\n",
    "\n",
    "# In kết quả\n",
    "print(f\"Khoảng cách Euclid đến centroid 1: {distance_to_centroid1}\")\n",
    "print(f\"Khoảng cách Euclid đến centroid 2: {distance_to_centroid2}\")\n",
    "\n",
    "# Xác định cụm\n",
    "if distance_to_centroid1 < distance_to_centroid2:\n",
    "    print(\"Điểm dữ liệu thuộc cụm 1\")\n",
    "else:\n",
    "    print(\"Điểm dữ liệu thuộc cụm 2\")\n"
   ]
  },
  {
   "cell_type": "code",
   "execution_count": 28,
   "metadata": {},
   "outputs": [
    {
     "name": "stdout",
     "output_type": "stream",
     "text": [
      "centroid:\n",
      "[[3.25       3.25       2.25      ]\n",
      " [8.5        8.16666667 8.        ]\n",
      " [1.5        2.5        1.33333333]]\n"
     ]
    }
   ],
   "source": [
    "import numpy as np\n",
    "\n",
    "# Dữ liệu\n",
    "data = np.array([\n",
    "    [2.0, 3.0, 1.5],\n",
    "    [3.0, 3.5, 2.0],\n",
    "    [3.5, 3.0, 2.5],\n",
    "    [8.0, 8.0, 7.5],\n",
    "    [8.5, 8.5, 8.0],\n",
    "    [9.0, 8.0, 8.5],\n",
    "    [1.0, 2.0, 1.0],\n",
    "    [1.5, 2.5, 1.5]\n",
    "])\n",
    "\n",
    "# Số cụm\n",
    "k = 3\n",
    "\n",
    "centroids = data[np.random.choice(data.shape[0], k, replace=False)]\n",
    "\n",
    "# Hàm tính khoảng cách Euclid\n",
    "def calculate_distance(x, centroids):\n",
    "    return np.linalg.norm(x[:, np.newaxis] - centroids, axis=2)\n",
    "\n",
    "# Hàm cập nhật các centroid\n",
    "def update_centroids(data, labels, k):\n",
    "    return np.array([data[labels == i].mean(axis=0) for i in range(k)])\n",
    "\n",
    "# Thuật toán K-Means\n",
    "def k_means(data, k, max_iters=100):\n",
    "    # Khởi tạo các centroid\n",
    "    centroids = data[np.random.choice(data.shape[0], k, replace=False)]\n",
    "    \n",
    "    for _ in range(max_iters):\n",
    "        # Tính khoảng cách từ các điểm đến các centroid\n",
    "        distances = calculate_distance(data, centroids)\n",
    "        \n",
    "        # Gán điểm dữ liệu vào cụm gần nhất\n",
    "        labels = np.argmin(distances, axis=1)\n",
    "        \n",
    "        # Cập nhật các centroid\n",
    "        new_centroids = update_centroids(data, labels, k)\n",
    "        \n",
    "        # Kiểm tra sự thay đổi của các centroid\n",
    "        if np.all(centroids == new_centroids):\n",
    "            break\n",
    "        \n",
    "        centroids = new_centroids\n",
    "    \n",
    "    return centroids\n",
    "\n",
    "# Chạy thuật toán K-Means\n",
    "centroids = k_means(data, k)\n",
    "\n",
    "print(\"centroid:\")\n",
    "print(centroids)\n"
   ]
  },
  {
   "cell_type": "code",
   "execution_count": null,
   "metadata": {},
   "outputs": [],
   "source": []
  },
  {
   "cell_type": "code",
   "execution_count": null,
   "metadata": {},
   "outputs": [],
   "source": []
  }
 ],
 "metadata": {
  "kernelspec": {
   "display_name": "Python 3",
   "language": "python",
   "name": "python3"
  },
  "language_info": {
   "codemirror_mode": {
    "name": "ipython",
    "version": 3
   },
   "file_extension": ".py",
   "mimetype": "text/x-python",
   "name": "python",
   "nbconvert_exporter": "python",
   "pygments_lexer": "ipython3",
   "version": "3.11.8"
  }
 },
 "nbformat": 4,
 "nbformat_minor": 2
}
